{
 "cells": [
  {
   "cell_type": "markdown",
   "metadata": {},
   "source": [
    "# Random Reading\n",
    "\n",
    "I love reading papers, though lately my collection has been growing and growing. The paralysis of choice certainly hindered my progress, did I want to read about statistics? NLP? Data Science and Art? In the beginning the papers were organized by their subject matter, and each day would be dedicated to reading about that topic. Eventually the flood kept coming in and instead of stopping and reading what I had, I kept hoarding them. \n",
    "\n",
    "Today, though, I decided I would do a little bit to make my life a little easier. Using python I created a small script that would be able to take a random article from my library of choices and immediately open it in my pdf viewer, [Skim](http://skim-app.sourceforge.net/), if you're curious. \n",
    "\n",
    "Here's the code below:"
   ]
  },
  {
   "cell_type": "code",
   "execution_count": null,
   "metadata": {
    "collapsed": true
   },
   "outputs": [],
   "source": [
    "# Randomly selects an article from a directory\n",
    "# Then opens in pdf reader. Can change to refer to any directory\n",
    "# Hopefully this gets me to read more DS papers!\n",
    "\n",
    "import os\n",
    "from subprocess import call\n",
    "from random import choice\n",
    "\n",
    "papers = os.listdir('/Users/sebozek/Dropbox/Articles/To Read')\n",
    "x = choice(papers)\n",
    "call(['open', x])"
   ]
  },
  {
   "cell_type": "markdown",
   "metadata": {},
   "source": [
    "It just exists as a small script in that folder I can call on in terminal.\n",
    "\n",
    "Already used it to read two articles today!"
   ]
  }
 ],
 "metadata": {
  "kernelspec": {
   "display_name": "Python 3",
   "language": "python",
   "name": "python3"
  },
  "language_info": {
   "codemirror_mode": {
    "name": "ipython",
    "version": 3
   },
   "file_extension": ".py",
   "mimetype": "text/x-python",
   "name": "python",
   "nbconvert_exporter": "python",
   "pygments_lexer": "ipython3",
   "version": "3.5.1"
  }
 },
 "nbformat": 4,
 "nbformat_minor": 0
}
